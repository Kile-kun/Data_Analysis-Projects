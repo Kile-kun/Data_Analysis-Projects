{
 "cells": [
  {
   "cell_type": "code",
   "execution_count": 1,
   "id": "e6fb4b59",
   "metadata": {},
   "outputs": [],
   "source": [
    "#Import Libraries\n",
    "import numpy as np  \n",
    "import matplotlib.pyplot as plt \n",
    "import pandas as pd\n",
    "from pandas import read_csv\n",
    "from sklearn.preprocessing import LabelEncoder \n",
    "from sklearn.preprocessing import OneHotEncoder\n",
    "from sklearn.compose import ColumnTransformer\n",
    "from sklearn.model_selection import train_test_split  \n",
    "from sklearn.preprocessing import StandardScaler\n",
    "from sklearn.model_selection import cross_val_score\n",
    "from sklearn.model_selection import StratifiedKFold\n",
    "from sklearn.metrics import classification_report\n",
    "from sklearn.metrics import confusion_matrix\n",
    "from sklearn.metrics import accuracy_score\n",
    "from sklearn.linear_model import LogisticRegression\n",
    "from sklearn.tree import DecisionTreeClassifier\n",
    "from sklearn.neighbors import KNeighborsClassifier\n",
    "from sklearn.discriminant_analysis import LinearDiscriminantAnalysis\n",
    "from sklearn.naive_bayes import GaussianNB\n",
    "from sklearn.svm import SVC\n",
    "\n",
    "#Import Data\n",
    "\n",
    "url = \"https://raw.githubusercontent.com/Kile-kun/Data_Analysis-Projects/main/Maxisage%20Project/LPG_Raw.csv\"\n",
    "data_set = read_csv(url)\n",
    "\n",
    "#Drop Unneeded Columns\n",
    "\n",
    "data_set = data_set.drop(['S/No.'], axis=1)\n",
    "\n",
    "#Highlighting Independent and Dependet Variables\n",
    "\n",
    "x= data_set.iloc[:, 0:7].values\n",
    "y= data_set.iloc[:,7].values\n",
    "\n",
    "#Converting Categorical Variables to Numerical Variables\n",
    "\n",
    "label_encoder_x= LabelEncoder() \n",
    "x[:, 0]= label_encoder_x.fit_transform(x[:, 0])\n",
    "x[:, 1]= label_encoder_x.fit_transform(x[:, 1]) \n",
    "x[:, 4]= label_encoder_x.fit_transform(x[:, 4]) \n",
    "x[:, 5]= label_encoder_x.fit_transform(x[:, 5]) \n",
    "x[:, 6]= label_encoder_x.fit_transform(x[:, 6])\n",
    "\n",
    "labelencoder_y= LabelEncoder()  \n",
    "\n",
    "y= labelencoder_y.fit_transform(y)\n",
    "\n",
    "#Choosing and COnverting Dummy Variable(Profession)\n",
    "columnTransformer = ColumnTransformer([('encoder', OneHotEncoder(), [1])],     remainder='passthrough')\n",
    "x=np.array(columnTransformer.fit_transform(x))\n",
    "\n",
    "##Splitting Dataset for Training and Testing\n",
    "x_train, x_test, y_train, y_test= train_test_split(x, y, test_size= 0.2, random_state=0)\n",
    "\n",
    "#Feature scaling of both independent and dependent variables\n",
    "st_x= StandardScaler()  \n",
    "x_train= st_x.fit_transform(x_train)\n",
    "x_test= st_x.transform(x_test)"
   ]
  },
  {
   "cell_type": "markdown",
   "id": "7c782a86",
   "metadata": {},
   "source": [
    "# BUILDING AND COMPARING MODELS"
   ]
  },
  {
   "cell_type": "code",
   "execution_count": 2,
   "id": "3d617248",
   "metadata": {},
   "outputs": [
    {
     "name": "stdout",
     "output_type": "stream",
     "text": [
      "LR: 0.447431 (0.072507)\n",
      "LDA: 0.429842 (0.056255)\n",
      "KNN: 0.332016 (0.147923)\n",
      "CART: 0.375889 (0.050608)\n",
      "NB: 0.287945 (0.122590)\n",
      "SVM: 0.415810 (0.076756)\n"
     ]
    }
   ],
   "source": [
    "models = []\n",
    "models.append(('LR', LogisticRegression(solver='liblinear', multi_class='ovr')))\n",
    "models.append(('LDA', LinearDiscriminantAnalysis()))\n",
    "models.append(('KNN', KNeighborsClassifier()))\n",
    "models.append(('CART', DecisionTreeClassifier()))\n",
    "models.append(('NB', GaussianNB()))\n",
    "models.append(('SVM', SVC(gamma='auto')))\n",
    "\n",
    "# evaluate each model in turn\n",
    "results = []\n",
    "names = []\n",
    "for name, model in models:\n",
    "\tkfold = StratifiedKFold(n_splits=10, random_state=1, shuffle=True)\n",
    "\tcv_results = cross_val_score(model, x_train, y_train, cv=kfold, scoring='accuracy')\n",
    "\tresults.append(cv_results)\n",
    "\tnames.append(name)\n",
    "\tprint('%s: %f (%f)' % (name, cv_results.mean(), cv_results.std()))"
   ]
  },
  {
   "cell_type": "code",
   "execution_count": 3,
   "id": "031586d8",
   "metadata": {},
   "outputs": [
    {
     "data": {
      "image/png": "[encoded data removed]",
      "text/plain": [
       "<Figure size 432x288 with 1 Axes>"
      ]
     },
     "metadata": {
      "needs_background": "light"
     },
     "output_type": "display_data"
    }
   ],
   "source": [
    "# Compare Algorithms\n",
    "plt.boxplot(results, labels=names)\n",
    "plt.title('Algorithm Comparison')\n",
    "plt.show()"
   ]
  },
  {
   "cell_type": "code",
   "execution_count": null,
   "id": "b33a09af",
   "metadata": {},
   "outputs": [],
   "source": []
  },
  {
   "cell_type": "code",
   "execution_count": null,
   "id": "2a7d213f",
   "metadata": {},
   "outputs": [],
   "source": []
  }
 ],
 "metadata": {
  "kernelspec": {
   "display_name": "Python [conda env:root] *",
   "language": "python",
   "name": "conda-root-py"
  },
  "language_info": {
   "codemirror_mode": {
    "name": "ipython",
    "version": 3
   },
   "file_extension": ".py",
   "mimetype": "text/x-python",
   "name": "python",
   "nbconvert_exporter": "python",
   "pygments_lexer": "ipython3",
   "version": "3.9.7"
  }
 },
 "nbformat": 4,
 "nbformat_minor": 5
}
