{
 "cells": [
  {
   "cell_type": "markdown",
   "metadata": {},
   "source": [
    "### Import Necessary Libraries"
   ]
  },
  {
   "cell_type": "code",
   "execution_count": 238,
   "metadata": {},
   "outputs": [],
   "source": [
    "import pandas as pd\n",
    "import numpy as np\n",
    "import matplotlib.pyplot as plt\n",
    "import seaborn as sns"
   ]
  },
  {
   "cell_type": "markdown",
   "metadata": {},
   "source": [
    "### Import Data File"
   ]
  },
  {
   "cell_type": "code",
   "execution_count": 239,
   "metadata": {},
   "outputs": [
    {
     "data": {
      "text/html": [
       "<div>\n",
       "<style scoped>\n",
       "    .dataframe tbody tr th:only-of-type {\n",
       "        vertical-align: middle;\n",
       "    }\n",
       "\n",
       "    .dataframe tbody tr th {\n",
       "        vertical-align: top;\n",
       "    }\n",
       "\n",
       "    .dataframe thead th {\n",
       "        text-align: right;\n",
       "    }\n",
       "</style>\n",
       "<table border=\"1\" class=\"dataframe\">\n",
       "  <thead>\n",
       "    <tr style=\"text-align: right;\">\n",
       "      <th></th>\n",
       "      <th>loan_id</th>\n",
       "      <th>is_first_loan</th>\n",
       "      <th>fully_repaid_previous_loans</th>\n",
       "      <th>currently_repaying_other_loans</th>\n",
       "      <th>total_credit_card_limit</th>\n",
       "      <th>avg_percentage_credit_card_limit_used_last_year</th>\n",
       "      <th>saving_amount</th>\n",
       "      <th>checking_amount</th>\n",
       "      <th>is_employed</th>\n",
       "      <th>yearly_salary</th>\n",
       "      <th>age</th>\n",
       "      <th>dependent_number</th>\n",
       "      <th>loan_purpose</th>\n",
       "      <th>date</th>\n",
       "      <th>loan_granted</th>\n",
       "      <th>loan_repaid</th>\n",
       "    </tr>\n",
       "  </thead>\n",
       "  <tbody>\n",
       "    <tr>\n",
       "      <th>0</th>\n",
       "      <td>494427</td>\n",
       "      <td>1</td>\n",
       "      <td>NaN</td>\n",
       "      <td>NaN</td>\n",
       "      <td>5100</td>\n",
       "      <td>0.70</td>\n",
       "      <td>738</td>\n",
       "      <td>1716</td>\n",
       "      <td>0</td>\n",
       "      <td>0</td>\n",
       "      <td>43</td>\n",
       "      <td>3</td>\n",
       "      <td>investment</td>\n",
       "      <td>3/7/2012</td>\n",
       "      <td>1</td>\n",
       "      <td>0.0</td>\n",
       "    </tr>\n",
       "    <tr>\n",
       "      <th>1</th>\n",
       "      <td>494462</td>\n",
       "      <td>1</td>\n",
       "      <td>NaN</td>\n",
       "      <td>NaN</td>\n",
       "      <td>2100</td>\n",
       "      <td>0.42</td>\n",
       "      <td>1262</td>\n",
       "      <td>271</td>\n",
       "      <td>1</td>\n",
       "      <td>27300</td>\n",
       "      <td>29</td>\n",
       "      <td>8</td>\n",
       "      <td>home</td>\n",
       "      <td>9/17/2012</td>\n",
       "      <td>1</td>\n",
       "      <td>0.0</td>\n",
       "    </tr>\n",
       "    <tr>\n",
       "      <th>2</th>\n",
       "      <td>494588</td>\n",
       "      <td>0</td>\n",
       "      <td>1.0</td>\n",
       "      <td>1.0</td>\n",
       "      <td>3500</td>\n",
       "      <td>0.72</td>\n",
       "      <td>56</td>\n",
       "      <td>3618</td>\n",
       "      <td>1</td>\n",
       "      <td>31800</td>\n",
       "      <td>26</td>\n",
       "      <td>2</td>\n",
       "      <td>business</td>\n",
       "      <td>2/8/2012</td>\n",
       "      <td>1</td>\n",
       "      <td>0.0</td>\n",
       "    </tr>\n",
       "    <tr>\n",
       "      <th>3</th>\n",
       "      <td>494649</td>\n",
       "      <td>1</td>\n",
       "      <td>NaN</td>\n",
       "      <td>NaN</td>\n",
       "      <td>3800</td>\n",
       "      <td>0.90</td>\n",
       "      <td>1273</td>\n",
       "      <td>2359</td>\n",
       "      <td>1</td>\n",
       "      <td>27800</td>\n",
       "      <td>35</td>\n",
       "      <td>8</td>\n",
       "      <td>home</td>\n",
       "      <td>11/21/2012</td>\n",
       "      <td>1</td>\n",
       "      <td>0.0</td>\n",
       "    </tr>\n",
       "    <tr>\n",
       "      <th>4</th>\n",
       "      <td>494678</td>\n",
       "      <td>0</td>\n",
       "      <td>1.0</td>\n",
       "      <td>1.0</td>\n",
       "      <td>4200</td>\n",
       "      <td>0.78</td>\n",
       "      <td>1052</td>\n",
       "      <td>1962</td>\n",
       "      <td>1</td>\n",
       "      <td>30900</td>\n",
       "      <td>76</td>\n",
       "      <td>8</td>\n",
       "      <td>investment</td>\n",
       "      <td>12/20/2012</td>\n",
       "      <td>1</td>\n",
       "      <td>0.0</td>\n",
       "    </tr>\n",
       "  </tbody>\n",
       "</table>\n",
       "</div>"
      ],
      "text/plain": [
       "   loan_id  is_first_loan  fully_repaid_previous_loans  \\\n",
       "0   494427              1                          NaN   \n",
       "1   494462              1                          NaN   \n",
       "2   494588              0                          1.0   \n",
       "3   494649              1                          NaN   \n",
       "4   494678              0                          1.0   \n",
       "\n",
       "   currently_repaying_other_loans  total_credit_card_limit  \\\n",
       "0                             NaN                     5100   \n",
       "1                             NaN                     2100   \n",
       "2                             1.0                     3500   \n",
       "3                             NaN                     3800   \n",
       "4                             1.0                     4200   \n",
       "\n",
       "   avg_percentage_credit_card_limit_used_last_year  saving_amount  \\\n",
       "0                                             0.70            738   \n",
       "1                                             0.42           1262   \n",
       "2                                             0.72             56   \n",
       "3                                             0.90           1273   \n",
       "4                                             0.78           1052   \n",
       "\n",
       "   checking_amount  is_employed  yearly_salary  age  dependent_number  \\\n",
       "0             1716            0              0   43                 3   \n",
       "1              271            1          27300   29                 8   \n",
       "2             3618            1          31800   26                 2   \n",
       "3             2359            1          27800   35                 8   \n",
       "4             1962            1          30900   76                 8   \n",
       "\n",
       "  loan_purpose        date  loan_granted  loan_repaid  \n",
       "0   investment    3/7/2012             1          0.0  \n",
       "1         home   9/17/2012             1          0.0  \n",
       "2     business    2/8/2012             1          0.0  \n",
       "3         home  11/21/2012             1          0.0  \n",
       "4   investment  12/20/2012             1          0.0  "
      ]
     },
     "execution_count": 239,
     "metadata": {},
     "output_type": "execute_result"
    }
   ],
   "source": [
    "df = pd.read_csv('Loan Data1.csv')\n",
    "df.head()"
   ]
  },
  {
   "cell_type": "markdown",
   "metadata": {},
   "source": [
    "### Summarize Dataset For Eyeballing"
   ]
  },
  {
   "cell_type": "code",
   "execution_count": 240,
   "metadata": {},
   "outputs": [
    {
     "data": {
      "text/html": [
       "<div>\n",
       "<style scoped>\n",
       "    .dataframe tbody tr th:only-of-type {\n",
       "        vertical-align: middle;\n",
       "    }\n",
       "\n",
       "    .dataframe tbody tr th {\n",
       "        vertical-align: top;\n",
       "    }\n",
       "\n",
       "    .dataframe thead th {\n",
       "        text-align: right;\n",
       "    }\n",
       "</style>\n",
       "<table border=\"1\" class=\"dataframe\">\n",
       "  <thead>\n",
       "    <tr style=\"text-align: right;\">\n",
       "      <th></th>\n",
       "      <th>loan_id</th>\n",
       "      <th>is_first_loan</th>\n",
       "      <th>fully_repaid_previous_loans</th>\n",
       "      <th>currently_repaying_other_loans</th>\n",
       "      <th>total_credit_card_limit</th>\n",
       "      <th>avg_percentage_credit_card_limit_used_last_year</th>\n",
       "      <th>saving_amount</th>\n",
       "      <th>checking_amount</th>\n",
       "      <th>is_employed</th>\n",
       "      <th>yearly_salary</th>\n",
       "      <th>age</th>\n",
       "      <th>dependent_number</th>\n",
       "      <th>loan_granted</th>\n",
       "      <th>loan_repaid</th>\n",
       "    </tr>\n",
       "  </thead>\n",
       "  <tbody>\n",
       "    <tr>\n",
       "      <th>count</th>\n",
       "      <td>44234.000000</td>\n",
       "      <td>44234.000000</td>\n",
       "      <td>20126.000000</td>\n",
       "      <td>20126.000000</td>\n",
       "      <td>44234.000000</td>\n",
       "      <td>40727.000000</td>\n",
       "      <td>44234.000000</td>\n",
       "      <td>44234.000000</td>\n",
       "      <td>44234.000000</td>\n",
       "      <td>44234.000000</td>\n",
       "      <td>44234.000000</td>\n",
       "      <td>44234.000000</td>\n",
       "      <td>44234.000000</td>\n",
       "      <td>17221.000000</td>\n",
       "    </tr>\n",
       "    <tr>\n",
       "      <th>mean</th>\n",
       "      <td>724833.209816</td>\n",
       "      <td>0.545011</td>\n",
       "      <td>0.896005</td>\n",
       "      <td>0.400527</td>\n",
       "      <td>3949.875661</td>\n",
       "      <td>0.733525</td>\n",
       "      <td>1685.339309</td>\n",
       "      <td>3007.944274</td>\n",
       "      <td>0.613397</td>\n",
       "      <td>19045.284171</td>\n",
       "      <td>41.549962</td>\n",
       "      <td>3.929918</td>\n",
       "      <td>0.389316</td>\n",
       "      <td>0.500029</td>\n",
       "    </tr>\n",
       "    <tr>\n",
       "      <th>std</th>\n",
       "      <td>142988.721594</td>\n",
       "      <td>0.497976</td>\n",
       "      <td>0.305261</td>\n",
       "      <td>0.490017</td>\n",
       "      <td>2126.963576</td>\n",
       "      <td>0.186433</td>\n",
       "      <td>1331.383032</td>\n",
       "      <td>1960.827641</td>\n",
       "      <td>0.486977</td>\n",
       "      <td>18559.173400</td>\n",
       "      <td>12.819046</td>\n",
       "      <td>2.647740</td>\n",
       "      <td>0.487601</td>\n",
       "      <td>0.500015</td>\n",
       "    </tr>\n",
       "    <tr>\n",
       "      <th>min</th>\n",
       "      <td>494425.000000</td>\n",
       "      <td>0.000000</td>\n",
       "      <td>0.000000</td>\n",
       "      <td>0.000000</td>\n",
       "      <td>0.000000</td>\n",
       "      <td>0.020000</td>\n",
       "      <td>0.000000</td>\n",
       "      <td>0.000000</td>\n",
       "      <td>0.000000</td>\n",
       "      <td>0.000000</td>\n",
       "      <td>18.000000</td>\n",
       "      <td>0.000000</td>\n",
       "      <td>0.000000</td>\n",
       "      <td>0.000000</td>\n",
       "    </tr>\n",
       "    <tr>\n",
       "      <th>25%</th>\n",
       "      <td>603370.500000</td>\n",
       "      <td>0.000000</td>\n",
       "      <td>1.000000</td>\n",
       "      <td>0.000000</td>\n",
       "      <td>2600.000000</td>\n",
       "      <td>0.610000</td>\n",
       "      <td>808.000000</td>\n",
       "      <td>1640.000000</td>\n",
       "      <td>0.000000</td>\n",
       "      <td>0.000000</td>\n",
       "      <td>32.000000</td>\n",
       "      <td>2.000000</td>\n",
       "      <td>0.000000</td>\n",
       "      <td>0.000000</td>\n",
       "    </tr>\n",
       "    <tr>\n",
       "      <th>50%</th>\n",
       "      <td>712203.000000</td>\n",
       "      <td>1.000000</td>\n",
       "      <td>1.000000</td>\n",
       "      <td>0.000000</td>\n",
       "      <td>3900.000000</td>\n",
       "      <td>0.740000</td>\n",
       "      <td>1268.000000</td>\n",
       "      <td>2534.000000</td>\n",
       "      <td>1.000000</td>\n",
       "      <td>18600.000000</td>\n",
       "      <td>41.000000</td>\n",
       "      <td>3.000000</td>\n",
       "      <td>0.000000</td>\n",
       "      <td>1.000000</td>\n",
       "    </tr>\n",
       "    <tr>\n",
       "      <th>75%</th>\n",
       "      <td>841683.250000</td>\n",
       "      <td>1.000000</td>\n",
       "      <td>1.000000</td>\n",
       "      <td>1.000000</td>\n",
       "      <td>5400.000000</td>\n",
       "      <td>0.870000</td>\n",
       "      <td>2107.000000</td>\n",
       "      <td>3868.750000</td>\n",
       "      <td>1.000000</td>\n",
       "      <td>33200.000000</td>\n",
       "      <td>50.000000</td>\n",
       "      <td>6.000000</td>\n",
       "      <td>1.000000</td>\n",
       "      <td>1.000000</td>\n",
       "    </tr>\n",
       "    <tr>\n",
       "      <th>max</th>\n",
       "      <td>999987.000000</td>\n",
       "      <td>1.000000</td>\n",
       "      <td>1.000000</td>\n",
       "      <td>1.000000</td>\n",
       "      <td>12700.000000</td>\n",
       "      <td>1.090000</td>\n",
       "      <td>10641.000000</td>\n",
       "      <td>13906.000000</td>\n",
       "      <td>1.000000</td>\n",
       "      <td>97200.000000</td>\n",
       "      <td>79.000000</td>\n",
       "      <td>8.000000</td>\n",
       "      <td>1.000000</td>\n",
       "      <td>1.000000</td>\n",
       "    </tr>\n",
       "  </tbody>\n",
       "</table>\n",
       "</div>"
      ],
      "text/plain": [
       "             loan_id  is_first_loan  fully_repaid_previous_loans  \\\n",
       "count   44234.000000   44234.000000                 20126.000000   \n",
       "mean   724833.209816       0.545011                     0.896005   \n",
       "std    142988.721594       0.497976                     0.305261   \n",
       "min    494425.000000       0.000000                     0.000000   \n",
       "25%    603370.500000       0.000000                     1.000000   \n",
       "50%    712203.000000       1.000000                     1.000000   \n",
       "75%    841683.250000       1.000000                     1.000000   \n",
       "max    999987.000000       1.000000                     1.000000   \n",
       "\n",
       "       currently_repaying_other_loans  total_credit_card_limit  \\\n",
       "count                    20126.000000             44234.000000   \n",
       "mean                         0.400527              3949.875661   \n",
       "std                          0.490017              2126.963576   \n",
       "min                          0.000000                 0.000000   \n",
       "25%                          0.000000              2600.000000   \n",
       "50%                          0.000000              3900.000000   \n",
       "75%                          1.000000              5400.000000   \n",
       "max                          1.000000             12700.000000   \n",
       "\n",
       "       avg_percentage_credit_card_limit_used_last_year  saving_amount  \\\n",
       "count                                     40727.000000   44234.000000   \n",
       "mean                                          0.733525    1685.339309   \n",
       "std                                           0.186433    1331.383032   \n",
       "min                                           0.020000       0.000000   \n",
       "25%                                           0.610000     808.000000   \n",
       "50%                                           0.740000    1268.000000   \n",
       "75%                                           0.870000    2107.000000   \n",
       "max                                           1.090000   10641.000000   \n",
       "\n",
       "       checking_amount   is_employed  yearly_salary           age  \\\n",
       "count     44234.000000  44234.000000   44234.000000  44234.000000   \n",
       "mean       3007.944274      0.613397   19045.284171     41.549962   \n",
       "std        1960.827641      0.486977   18559.173400     12.819046   \n",
       "min           0.000000      0.000000       0.000000     18.000000   \n",
       "25%        1640.000000      0.000000       0.000000     32.000000   \n",
       "50%        2534.000000      1.000000   18600.000000     41.000000   \n",
       "75%        3868.750000      1.000000   33200.000000     50.000000   \n",
       "max       13906.000000      1.000000   97200.000000     79.000000   \n",
       "\n",
       "       dependent_number  loan_granted   loan_repaid  \n",
       "count      44234.000000  44234.000000  17221.000000  \n",
       "mean           3.929918      0.389316      0.500029  \n",
       "std            2.647740      0.487601      0.500015  \n",
       "min            0.000000      0.000000      0.000000  \n",
       "25%            2.000000      0.000000      0.000000  \n",
       "50%            3.000000      0.000000      1.000000  \n",
       "75%            6.000000      1.000000      1.000000  \n",
       "max            8.000000      1.000000      1.000000  "
      ]
     },
     "execution_count": 240,
     "metadata": {},
     "output_type": "execute_result"
    }
   ],
   "source": [
    "df.describe()"
   ]
  },
  {
   "cell_type": "code",
   "execution_count": 241,
   "metadata": {},
   "outputs": [
    {
     "name": "stdout",
     "output_type": "stream",
     "text": [
      "<class 'pandas.core.frame.DataFrame'>\n",
      "RangeIndex: 44234 entries, 0 to 44233\n",
      "Data columns (total 16 columns):\n",
      " #   Column                                           Non-Null Count  Dtype  \n",
      "---  ------                                           --------------  -----  \n",
      " 0   loan_id                                          44234 non-null  int64  \n",
      " 1   is_first_loan                                    44234 non-null  int64  \n",
      " 2   fully_repaid_previous_loans                      20126 non-null  float64\n",
      " 3   currently_repaying_other_loans                   20126 non-null  float64\n",
      " 4   total_credit_card_limit                          44234 non-null  int64  \n",
      " 5   avg_percentage_credit_card_limit_used_last_year  40727 non-null  float64\n",
      " 6   saving_amount                                    44234 non-null  int64  \n",
      " 7   checking_amount                                  44234 non-null  int64  \n",
      " 8   is_employed                                      44234 non-null  int64  \n",
      " 9   yearly_salary                                    44234 non-null  int64  \n",
      " 10  age                                              44234 non-null  int64  \n",
      " 11  dependent_number                                 44234 non-null  int64  \n",
      " 12  loan_purpose                                     44234 non-null  object \n",
      " 13  date                                             44234 non-null  object \n",
      " 14  loan_granted                                     44234 non-null  int64  \n",
      " 15  loan_repaid                                      17221 non-null  float64\n",
      "dtypes: float64(4), int64(10), object(2)\n",
      "memory usage: 5.4+ MB\n"
     ]
    }
   ],
   "source": [
    "df.info()"
   ]
  },
  {
   "cell_type": "markdown",
   "metadata": {},
   "source": [
    "### Checking & Visualizing Dataset for Null Values for Possible Imputation"
   ]
  },
  {
   "cell_type": "code",
   "execution_count": 242,
   "metadata": {},
   "outputs": [
    {
     "data": {
      "text/plain": [
       "loan_id                                                0\n",
       "is_first_loan                                          0\n",
       "fully_repaid_previous_loans                        24108\n",
       "currently_repaying_other_loans                     24108\n",
       "total_credit_card_limit                                0\n",
       "avg_percentage_credit_card_limit_used_last_year     3507\n",
       "saving_amount                                          0\n",
       "checking_amount                                        0\n",
       "is_employed                                            0\n",
       "yearly_salary                                          0\n",
       "age                                                    0\n",
       "dependent_number                                       0\n",
       "loan_purpose                                           0\n",
       "date                                                   0\n",
       "loan_granted                                           0\n",
       "loan_repaid                                        27013\n",
       "dtype: int64"
      ]
     },
     "execution_count": 242,
     "metadata": {},
     "output_type": "execute_result"
    }
   ],
   "source": [
    "df.isnull().sum()\n"
   ]
  },
  {
   "cell_type": "code",
   "execution_count": 243,
   "metadata": {},
   "outputs": [
    {
     "data": {
      "text/plain": [
       "<Figure size 720x432 with 0 Axes>"
      ]
     },
     "metadata": {},
     "output_type": "display_data"
    },
    {
     "data": {
      "image/png": "[encoded data removed]",
      "text/plain": [
       "<Figure size 511.25x360 with 1 Axes>"
      ]
     },
     "metadata": {
      "needs_background": "light"
     },
     "output_type": "display_data"
    }
   ],
   "source": [
    "plt.figure(figsize=(10,6))\n",
    "sns.displot(\n",
    "    data=df.isna().melt(value_name=\"missing\"),\n",
    "    y=\"variable\",\n",
    "    hue=\"missing\",\n",
    "    multiple=\"fill\",\n",
    "    aspect=1.25\n",
    ")\n",
    "plt.savefig(\"visualizing_missing_data_with_barplot_Seaborn_distplot.png\", dpi=100)"
   ]
  },
  {
   "cell_type": "code",
   "execution_count": 244,
   "metadata": {},
   "outputs": [
    {
     "data": {
      "text/plain": [
       "array([nan,  1.,  0.])"
      ]
     },
     "execution_count": 244,
     "metadata": {},
     "output_type": "execute_result"
    }
   ],
   "source": [
    "df.fully_repaid_previous_loans.unique()"
   ]
  },
  {
   "cell_type": "code",
   "execution_count": 245,
   "metadata": {},
   "outputs": [
    {
     "data": {
      "text/plain": [
       "array([nan,  1.,  0.])"
      ]
     },
     "execution_count": 245,
     "metadata": {},
     "output_type": "execute_result"
    }
   ],
   "source": [
    "df.currently_repaying_other_loans.unique()"
   ]
  },
  {
   "cell_type": "code",
   "execution_count": 246,
   "metadata": {},
   "outputs": [
    {
     "data": {
      "text/plain": [
       "array([0.7 , 0.42, 0.72, 0.9 , 0.78, 0.71, 0.39, 0.77, 0.62, 0.74, 0.95,\n",
       "       0.82, 0.8 , 1.02, 0.45,  nan, 0.84, 1.  , 0.48, 0.94, 0.58, 0.73,\n",
       "       0.76, 1.03, 0.52, 0.86, 0.88, 0.64, 0.55, 0.65, 0.34, 1.07, 0.89,\n",
       "       0.85, 0.87, 0.37, 0.59, 0.6 , 1.04, 0.5 , 0.97, 0.54, 0.79, 0.96,\n",
       "       0.91, 0.57, 0.83, 0.4 , 0.75, 0.61, 0.23, 0.28, 0.53, 0.66, 1.01,\n",
       "       0.63, 0.47, 0.98, 0.51, 0.81, 0.69, 0.67, 0.49, 0.68, 0.92, 0.93,\n",
       "       0.43, 0.99, 0.56, 1.05, 0.38, 0.36, 0.46, 0.3 , 0.19, 0.44, 0.41,\n",
       "       1.08, 0.31, 0.33, 0.24, 0.32, 0.27, 0.29, 0.35, 0.03, 1.06, 0.07,\n",
       "       0.25, 1.09, 0.16, 0.2 , 0.21, 0.18, 0.22, 0.26, 0.11, 0.14, 0.02,\n",
       "       0.13, 0.09, 0.17, 0.06, 0.12, 0.15, 0.05, 0.04, 0.08, 0.1 ])"
      ]
     },
     "execution_count": 246,
     "metadata": {},
     "output_type": "execute_result"
    }
   ],
   "source": [
    "df.avg_percentage_credit_card_limit_used_last_year.unique()"
   ]
  },
  {
   "cell_type": "code",
   "execution_count": 247,
   "metadata": {},
   "outputs": [
    {
     "data": {
      "text/plain": [
       "array([ 0.,  1., nan])"
      ]
     },
     "execution_count": 247,
     "metadata": {},
     "output_type": "execute_result"
    }
   ],
   "source": [
    "df.loan_repaid.unique()"
   ]
  },
  {
   "cell_type": "markdown",
   "metadata": {},
   "source": [
    "## Imputation of Columns With Missing Values"
   ]
  },
  {
   "cell_type": "code",
   "execution_count": 248,
   "metadata": {},
   "outputs": [
    {
     "data": {
      "text/plain": [
       "1.0    18033\n",
       "0.0     2093\n",
       "Name: fully_repaid_previous_loans, dtype: int64"
      ]
     },
     "execution_count": 248,
     "metadata": {},
     "output_type": "execute_result"
    }
   ],
   "source": [
    "df['fully_repaid_previous_loans'].value_counts()"
   ]
  },
  {
   "cell_type": "code",
   "execution_count": 249,
   "metadata": {},
   "outputs": [
    {
     "data": {
      "text/plain": [
       "0.0    12065\n",
       "1.0     8061\n",
       "Name: currently_repaying_other_loans, dtype: int64"
      ]
     },
     "execution_count": 249,
     "metadata": {},
     "output_type": "execute_result"
    }
   ],
   "source": [
    "df['currently_repaying_other_loans'].value_counts()"
   ]
  },
  {
   "cell_type": "code",
   "execution_count": 250,
   "metadata": {},
   "outputs": [
    {
     "data": {
      "text/plain": [
       "0.72    840\n",
       "0.77    834\n",
       "0.76    828\n",
       "0.75    827\n",
       "0.74    818\n",
       "       ... \n",
       "0.05      2\n",
       "0.02      1\n",
       "0.03      1\n",
       "0.04      1\n",
       "0.10      1\n",
       "Name: avg_percentage_credit_card_limit_used_last_year, Length: 108, dtype: int64"
      ]
     },
     "execution_count": 250,
     "metadata": {},
     "output_type": "execute_result"
    }
   ],
   "source": [
    "df['avg_percentage_credit_card_limit_used_last_year'].value_counts()"
   ]
  },
  {
   "cell_type": "code",
   "execution_count": 251,
   "metadata": {},
   "outputs": [
    {
     "data": {
      "text/plain": [
       "1.0    8611\n",
       "0.0    8610\n",
       "Name: loan_repaid, dtype: int64"
      ]
     },
     "execution_count": 251,
     "metadata": {},
     "output_type": "execute_result"
    }
   ],
   "source": [
    "df['loan_repaid'].value_counts()"
   ]
  },
  {
   "cell_type": "code",
   "execution_count": 252,
   "metadata": {},
   "outputs": [],
   "source": [
    "#fill average percentage credit card limit used missing values with mean of the column\n",
    "df['avg_percentage_credit_card_limit_used_last_year'] = df['avg_percentage_credit_card_limit_used_last_year'].fillna(value=df['avg_percentage_credit_card_limit_used_last_year'].mean())"
   ]
  },
  {
   "cell_type": "code",
   "execution_count": 253,
   "metadata": {},
   "outputs": [
    {
     "data": {
      "text/plain": [
       "0        0.0\n",
       "1        0.0\n",
       "2        1.0\n",
       "3        0.0\n",
       "4        1.0\n",
       "        ... \n",
       "44229    0.0\n",
       "44230    0.0\n",
       "44231    0.0\n",
       "44232    0.0\n",
       "44233    1.0\n",
       "Name: currently_repaying_other_loans, Length: 44234, dtype: float64"
      ]
     },
     "execution_count": 253,
     "metadata": {},
     "output_type": "execute_result"
    }
   ],
   "source": [
    "#fill currently_repaying_other_loans missing values with mode of the column\n",
    "df['currently_repaying_other_loans'] = df['currently_repaying_other_loans'].fillna(value=df['currently_repaying_other_loans'].mode()[0])\n",
    "df['currently_repaying_other_loans']"
   ]
  },
  {
   "cell_type": "code",
   "execution_count": 254,
   "metadata": {},
   "outputs": [],
   "source": [
    "#fill fully_repaid_previous_loans missing values with mode of the column\n",
    "df['fully_repaid_previous_loans'] = df['fully_repaid_previous_loans'].fillna(value=df['fully_repaid_previous_loans'].mode()[0])"
   ]
  },
  {
   "cell_type": "code",
   "execution_count": 255,
   "metadata": {},
   "outputs": [
    {
     "data": {
      "text/plain": [
       "loan_id                                                0\n",
       "is_first_loan                                          0\n",
       "fully_repaid_previous_loans                            0\n",
       "currently_repaying_other_loans                         0\n",
       "total_credit_card_limit                                0\n",
       "avg_percentage_credit_card_limit_used_last_year        0\n",
       "saving_amount                                          0\n",
       "checking_amount                                        0\n",
       "is_employed                                            0\n",
       "yearly_salary                                          0\n",
       "age                                                    0\n",
       "dependent_number                                       0\n",
       "loan_purpose                                           0\n",
       "date                                                   0\n",
       "loan_granted                                           0\n",
       "loan_repaid                                        27013\n",
       "dtype: int64"
      ]
     },
     "execution_count": 255,
     "metadata": {},
     "output_type": "execute_result"
    }
   ],
   "source": [
    "df.isnull().sum()"
   ]
  },
  {
   "cell_type": "code",
   "execution_count": 256,
   "metadata": {},
   "outputs": [],
   "source": [
    "#Since loan repaid and loan granted is our target columns, it is suggested we drop the missing values to\n",
    "# work with real time values\n",
    "df = df.dropna()"
   ]
  },
  {
   "cell_type": "code",
   "execution_count": 257,
   "metadata": {},
   "outputs": [
    {
     "data": {
      "text/plain": [
       "<Figure size 864x432 with 0 Axes>"
      ]
     },
     "metadata": {},
     "output_type": "display_data"
    },
    {
     "data": {
      "image/png": "[encoded data removed]",
      "text/plain": [
       "<Figure size 511.25x360 with 1 Axes>"
      ]
     },
     "metadata": {
      "needs_background": "light"
     },
     "output_type": "display_data"
    }
   ],
   "source": [
    "#visualizing the clean value to view the dataset\n",
    "plt.figure(figsize=(12,6))\n",
    "sns.displot(\n",
    "    data=df.isna().melt(value_name=\"missing\"),\n",
    "    y=\"variable\",\n",
    "    hue=\"missing\",\n",
    "    multiple=\"fill\",\n",
    "    aspect=1.25\n",
    ")\n",
    "plt.savefig(\"visualizing_missing_data_with_barplot_Seaborn_distplot.png\", dpi=100)"
   ]
  },
  {
   "cell_type": "markdown",
   "metadata": {},
   "source": [
    "### Visualizing Cleaned Data"
   ]
  },
  {
   "cell_type": "code",
   "execution_count": 258,
   "metadata": {},
   "outputs": [
    {
     "data": {
      "text/html": [
       "<div>\n",
       "<style scoped>\n",
       "    .dataframe tbody tr th:only-of-type {\n",
       "        vertical-align: middle;\n",
       "    }\n",
       "\n",
       "    .dataframe tbody tr th {\n",
       "        vertical-align: top;\n",
       "    }\n",
       "\n",
       "    .dataframe thead th {\n",
       "        text-align: right;\n",
       "    }\n",
       "</style>\n",
       "<table border=\"1\" class=\"dataframe\">\n",
       "  <thead>\n",
       "    <tr style=\"text-align: right;\">\n",
       "      <th></th>\n",
       "      <th>loan_purpose</th>\n",
       "      <th>no_of_applications</th>\n",
       "    </tr>\n",
       "  </thead>\n",
       "  <tbody>\n",
       "    <tr>\n",
       "      <th>0</th>\n",
       "      <td>business</td>\n",
       "      <td>3730</td>\n",
       "    </tr>\n",
       "    <tr>\n",
       "      <th>1</th>\n",
       "      <td>emergency_funds</td>\n",
       "      <td>3006</td>\n",
       "    </tr>\n",
       "    <tr>\n",
       "      <th>2</th>\n",
       "      <td>home</td>\n",
       "      <td>4169</td>\n",
       "    </tr>\n",
       "    <tr>\n",
       "      <th>3</th>\n",
       "      <td>investment</td>\n",
       "      <td>3683</td>\n",
       "    </tr>\n",
       "    <tr>\n",
       "      <th>4</th>\n",
       "      <td>other</td>\n",
       "      <td>2633</td>\n",
       "    </tr>\n",
       "  </tbody>\n",
       "</table>\n",
       "</div>"
      ],
      "text/plain": [
       "      loan_purpose  no_of_applications\n",
       "0         business                3730\n",
       "1  emergency_funds                3006\n",
       "2             home                4169\n",
       "3       investment                3683\n",
       "4            other                2633"
      ]
     },
     "execution_count": 258,
     "metadata": {},
     "output_type": "execute_result"
    }
   ],
   "source": [
    "df_loan_purpose =df.groupby([\"loan_purpose\"])[\"loan_id\"].count().reset_index(name=\"no_of_applications\")\n",
    "df_loan_purpose"
   ]
  },
  {
   "cell_type": "code",
   "execution_count": 259,
   "metadata": {},
   "outputs": [
    {
     "data": {
      "image/png": "[encoded data removed]",
      "text/plain": [
       "<Figure size 576x576 with 1 Axes>"
      ]
     },
     "metadata": {},
     "output_type": "display_data"
    }
   ],
   "source": [
    "plt.figure(figsize=(8, 8))\n",
    "labels = df_loan_purpose['loan_purpose']\n",
    "sizes = df_loan_purpose['no_of_applications']\n",
    "colors = ['red', 'blue', 'green', 'purple', 'black']\n",
    "textprops = {\"fontsize\":14,'color':'white'}\n",
    "plt.pie(sizes, labels=labels, colors=colors,\n",
    " autopct= '%.2f%%',\n",
    " pctdistance =0.8,\n",
    " shadow=False,\n",
    " textprops =textprops,\n",
    " wedgeprops={'linewidth': 3.0, 'edgecolor': 'white'},)\n",
    " \n",
    "centre_circle = plt.Circle((0,0),0.65,color= 'grey', fc='white',linewidth=1.00)\n",
    "fig = plt.gcf()\n",
    "fig.gca().add_artist(centre_circle)\n",
    "plt.axis('equal')\n",
    "plt.show()"
   ]
  },
  {
   "cell_type": "code",
   "execution_count": 260,
   "metadata": {},
   "outputs": [
    {
     "data": {
      "text/html": [
       "<div>\n",
       "<style scoped>\n",
       "    .dataframe tbody tr th:only-of-type {\n",
       "        vertical-align: middle;\n",
       "    }\n",
       "\n",
       "    .dataframe tbody tr th {\n",
       "        vertical-align: top;\n",
       "    }\n",
       "\n",
       "    .dataframe thead th {\n",
       "        text-align: right;\n",
       "    }\n",
       "</style>\n",
       "<table border=\"1\" class=\"dataframe\">\n",
       "  <thead>\n",
       "    <tr style=\"text-align: right;\">\n",
       "      <th></th>\n",
       "      <th>dependent_number</th>\n",
       "      <th>number_of_application</th>\n",
       "    </tr>\n",
       "  </thead>\n",
       "  <tbody>\n",
       "    <tr>\n",
       "      <th>0</th>\n",
       "      <td>0</td>\n",
       "      <td>580</td>\n",
       "    </tr>\n",
       "    <tr>\n",
       "      <th>1</th>\n",
       "      <td>1</td>\n",
       "      <td>3431</td>\n",
       "    </tr>\n",
       "    <tr>\n",
       "      <th>2</th>\n",
       "      <td>2</td>\n",
       "      <td>3075</td>\n",
       "    </tr>\n",
       "    <tr>\n",
       "      <th>3</th>\n",
       "      <td>3</td>\n",
       "      <td>2259</td>\n",
       "    </tr>\n",
       "    <tr>\n",
       "      <th>4</th>\n",
       "      <td>4</td>\n",
       "      <td>1659</td>\n",
       "    </tr>\n",
       "    <tr>\n",
       "      <th>5</th>\n",
       "      <td>5</td>\n",
       "      <td>1206</td>\n",
       "    </tr>\n",
       "    <tr>\n",
       "      <th>6</th>\n",
       "      <td>6</td>\n",
       "      <td>918</td>\n",
       "    </tr>\n",
       "    <tr>\n",
       "      <th>7</th>\n",
       "      <td>7</td>\n",
       "      <td>707</td>\n",
       "    </tr>\n",
       "    <tr>\n",
       "      <th>8</th>\n",
       "      <td>8</td>\n",
       "      <td>3386</td>\n",
       "    </tr>\n",
       "  </tbody>\n",
       "</table>\n",
       "</div>"
      ],
      "text/plain": [
       "   dependent_number  number_of_application\n",
       "0                 0                    580\n",
       "1                 1                   3431\n",
       "2                 2                   3075\n",
       "3                 3                   2259\n",
       "4                 4                   1659\n",
       "5                 5                   1206\n",
       "6                 6                    918\n",
       "7                 7                    707\n",
       "8                 8                   3386"
      ]
     },
     "execution_count": 260,
     "metadata": {},
     "output_type": "execute_result"
    }
   ],
   "source": [
    "df_salary_family_size = df.groupby([\"dependent_number\"])[\"yearly_salary\"].count().reset_index(name = \"number_of_application\")\n",
    "df_salary_family_size"
   ]
  },
  {
   "cell_type": "code",
   "execution_count": 261,
   "metadata": {},
   "outputs": [
    {
     "data": {
      "text/plain": [
       "<AxesSubplot:title={'center':'Average And Maximum Salary Per Family Size'}, xlabel='Family Size', ylabel='Number of Application'>"
      ]
     },
     "execution_count": 261,
     "metadata": {},
     "output_type": "execute_result"
    },
    {
     "data": {
      "image/png": "[encoded data removed]",
      "text/plain": [
       "<Figure size 864x432 with 1 Axes>"
      ]
     },
     "metadata": {
      "needs_background": "light"
     },
     "output_type": "display_data"
    }
   ],
   "source": [
    "\n",
    "df_salary_family_size.plot(x=\"dependent_number\",\n",
    "        kind=\"bar\",\n",
    "        figsize=(12,6),\n",
    "        title=\"Average And Maximum Salary Per Family Size\",\n",
    "        xlabel = \"Family Size\", \n",
    "        ylabel = \"Number of Application\", \n",
    ")\n"
   ]
  },
  {
   "cell_type": "code",
   "execution_count": 262,
   "metadata": {},
   "outputs": [
    {
     "data": {
      "text/plain": [
       "<AxesSubplot:xlabel='dependent_number', ylabel='yearly_salary'>"
      ]
     },
     "execution_count": 262,
     "metadata": {},
     "output_type": "execute_result"
    },
    {
     "data": {
      "image/png": "[encoded data removed]",
      "text/plain": [
       "<Figure size 864x576 with 1 Axes>"
      ]
     },
     "metadata": {
      "needs_background": "light"
     },
     "output_type": "display_data"
    }
   ],
   "source": [
    "plt.figure(figsize = (12,8))\n",
    "sns.boxplot(x = 'dependent_number', y = 'yearly_salary', data=df)"
   ]
  },
  {
   "cell_type": "markdown",
   "metadata": {},
   "source": [
    "### Extracting Month and Day From the Date column for independent Analysis"
   ]
  },
  {
   "cell_type": "code",
   "execution_count": 263,
   "metadata": {},
   "outputs": [
    {
     "data": {
      "text/html": [
       "<div>\n",
       "<style scoped>\n",
       "    .dataframe tbody tr th:only-of-type {\n",
       "        vertical-align: middle;\n",
       "    }\n",
       "\n",
       "    .dataframe tbody tr th {\n",
       "        vertical-align: top;\n",
       "    }\n",
       "\n",
       "    .dataframe thead th {\n",
       "        text-align: right;\n",
       "    }\n",
       "</style>\n",
       "<table border=\"1\" class=\"dataframe\">\n",
       "  <thead>\n",
       "    <tr style=\"text-align: right;\">\n",
       "      <th></th>\n",
       "      <th>loan_id</th>\n",
       "      <th>is_first_loan</th>\n",
       "      <th>fully_repaid_previous_loans</th>\n",
       "      <th>currently_repaying_other_loans</th>\n",
       "      <th>total_credit_card_limit</th>\n",
       "      <th>avg_percentage_credit_card_limit_used_last_year</th>\n",
       "      <th>saving_amount</th>\n",
       "      <th>checking_amount</th>\n",
       "      <th>is_employed</th>\n",
       "      <th>yearly_salary</th>\n",
       "      <th>age</th>\n",
       "      <th>dependent_number</th>\n",
       "      <th>loan_purpose</th>\n",
       "      <th>date</th>\n",
       "      <th>loan_granted</th>\n",
       "      <th>loan_repaid</th>\n",
       "      <th>loan_month</th>\n",
       "      <th>loan_day</th>\n",
       "    </tr>\n",
       "  </thead>\n",
       "  <tbody>\n",
       "    <tr>\n",
       "      <th>0</th>\n",
       "      <td>494427</td>\n",
       "      <td>1</td>\n",
       "      <td>1.0</td>\n",
       "      <td>0.0</td>\n",
       "      <td>5100</td>\n",
       "      <td>0.70</td>\n",
       "      <td>738</td>\n",
       "      <td>1716</td>\n",
       "      <td>0</td>\n",
       "      <td>0</td>\n",
       "      <td>43</td>\n",
       "      <td>3</td>\n",
       "      <td>investment</td>\n",
       "      <td>3/7/2012</td>\n",
       "      <td>1</td>\n",
       "      <td>0.0</td>\n",
       "      <td>3</td>\n",
       "      <td>7</td>\n",
       "    </tr>\n",
       "    <tr>\n",
       "      <th>1</th>\n",
       "      <td>494462</td>\n",
       "      <td>1</td>\n",
       "      <td>1.0</td>\n",
       "      <td>0.0</td>\n",
       "      <td>2100</td>\n",
       "      <td>0.42</td>\n",
       "      <td>1262</td>\n",
       "      <td>271</td>\n",
       "      <td>1</td>\n",
       "      <td>27300</td>\n",
       "      <td>29</td>\n",
       "      <td>8</td>\n",
       "      <td>home</td>\n",
       "      <td>9/17/2012</td>\n",
       "      <td>1</td>\n",
       "      <td>0.0</td>\n",
       "      <td>9</td>\n",
       "      <td>17</td>\n",
       "    </tr>\n",
       "    <tr>\n",
       "      <th>2</th>\n",
       "      <td>494588</td>\n",
       "      <td>0</td>\n",
       "      <td>1.0</td>\n",
       "      <td>1.0</td>\n",
       "      <td>3500</td>\n",
       "      <td>0.72</td>\n",
       "      <td>56</td>\n",
       "      <td>3618</td>\n",
       "      <td>1</td>\n",
       "      <td>31800</td>\n",
       "      <td>26</td>\n",
       "      <td>2</td>\n",
       "      <td>business</td>\n",
       "      <td>2/8/2012</td>\n",
       "      <td>1</td>\n",
       "      <td>0.0</td>\n",
       "      <td>2</td>\n",
       "      <td>8</td>\n",
       "    </tr>\n",
       "    <tr>\n",
       "      <th>3</th>\n",
       "      <td>494649</td>\n",
       "      <td>1</td>\n",
       "      <td>1.0</td>\n",
       "      <td>0.0</td>\n",
       "      <td>3800</td>\n",
       "      <td>0.90</td>\n",
       "      <td>1273</td>\n",
       "      <td>2359</td>\n",
       "      <td>1</td>\n",
       "      <td>27800</td>\n",
       "      <td>35</td>\n",
       "      <td>8</td>\n",
       "      <td>home</td>\n",
       "      <td>11/21/2012</td>\n",
       "      <td>1</td>\n",
       "      <td>0.0</td>\n",
       "      <td>11</td>\n",
       "      <td>21</td>\n",
       "    </tr>\n",
       "    <tr>\n",
       "      <th>4</th>\n",
       "      <td>494678</td>\n",
       "      <td>0</td>\n",
       "      <td>1.0</td>\n",
       "      <td>1.0</td>\n",
       "      <td>4200</td>\n",
       "      <td>0.78</td>\n",
       "      <td>1052</td>\n",
       "      <td>1962</td>\n",
       "      <td>1</td>\n",
       "      <td>30900</td>\n",
       "      <td>76</td>\n",
       "      <td>8</td>\n",
       "      <td>investment</td>\n",
       "      <td>12/20/2012</td>\n",
       "      <td>1</td>\n",
       "      <td>0.0</td>\n",
       "      <td>12</td>\n",
       "      <td>20</td>\n",
       "    </tr>\n",
       "  </tbody>\n",
       "</table>\n",
       "</div>"
      ],
      "text/plain": [
       "   loan_id  is_first_loan  fully_repaid_previous_loans  \\\n",
       "0   494427              1                          1.0   \n",
       "1   494462              1                          1.0   \n",
       "2   494588              0                          1.0   \n",
       "3   494649              1                          1.0   \n",
       "4   494678              0                          1.0   \n",
       "\n",
       "   currently_repaying_other_loans  total_credit_card_limit  \\\n",
       "0                             0.0                     5100   \n",
       "1                             0.0                     2100   \n",
       "2                             1.0                     3500   \n",
       "3                             0.0                     3800   \n",
       "4                             1.0                     4200   \n",
       "\n",
       "   avg_percentage_credit_card_limit_used_last_year  saving_amount  \\\n",
       "0                                             0.70            738   \n",
       "1                                             0.42           1262   \n",
       "2                                             0.72             56   \n",
       "3                                             0.90           1273   \n",
       "4                                             0.78           1052   \n",
       "\n",
       "   checking_amount  is_employed  yearly_salary  age  dependent_number  \\\n",
       "0             1716            0              0   43                 3   \n",
       "1              271            1          27300   29                 8   \n",
       "2             3618            1          31800   26                 2   \n",
       "3             2359            1          27800   35                 8   \n",
       "4             1962            1          30900   76                 8   \n",
       "\n",
       "  loan_purpose        date  loan_granted  loan_repaid  loan_month  loan_day  \n",
       "0   investment    3/7/2012             1          0.0           3         7  \n",
       "1         home   9/17/2012             1          0.0           9        17  \n",
       "2     business    2/8/2012             1          0.0           2         8  \n",
       "3         home  11/21/2012             1          0.0          11        21  \n",
       "4   investment  12/20/2012             1          0.0          12        20  "
      ]
     },
     "execution_count": 263,
     "metadata": {},
     "output_type": "execute_result"
    }
   ],
   "source": [
    "df['loan_month'] = pd.DatetimeIndex(df['date']).month\n",
    "df['loan_day'] = pd.DatetimeIndex(df['date']).day\n",
    "df.head()"
   ]
  },
  {
   "cell_type": "code",
   "execution_count": 264,
   "metadata": {},
   "outputs": [
    {
     "data": {
      "text/html": [
       "<div>\n",
       "<style scoped>\n",
       "    .dataframe tbody tr th:only-of-type {\n",
       "        vertical-align: middle;\n",
       "    }\n",
       "\n",
       "    .dataframe tbody tr th {\n",
       "        vertical-align: top;\n",
       "    }\n",
       "\n",
       "    .dataframe thead th {\n",
       "        text-align: right;\n",
       "    }\n",
       "</style>\n",
       "<table border=\"1\" class=\"dataframe\">\n",
       "  <thead>\n",
       "    <tr style=\"text-align: right;\">\n",
       "      <th></th>\n",
       "      <th>loan_id</th>\n",
       "    </tr>\n",
       "    <tr>\n",
       "      <th>loan_month</th>\n",
       "      <th></th>\n",
       "    </tr>\n",
       "  </thead>\n",
       "  <tbody>\n",
       "    <tr>\n",
       "      <th>1</th>\n",
       "      <td>1492</td>\n",
       "    </tr>\n",
       "    <tr>\n",
       "      <th>2</th>\n",
       "      <td>1400</td>\n",
       "    </tr>\n",
       "    <tr>\n",
       "      <th>3</th>\n",
       "      <td>1470</td>\n",
       "    </tr>\n",
       "    <tr>\n",
       "      <th>4</th>\n",
       "      <td>1398</td>\n",
       "    </tr>\n",
       "    <tr>\n",
       "      <th>5</th>\n",
       "      <td>1510</td>\n",
       "    </tr>\n",
       "    <tr>\n",
       "      <th>6</th>\n",
       "      <td>1379</td>\n",
       "    </tr>\n",
       "    <tr>\n",
       "      <th>7</th>\n",
       "      <td>1511</td>\n",
       "    </tr>\n",
       "    <tr>\n",
       "      <th>8</th>\n",
       "      <td>1495</td>\n",
       "    </tr>\n",
       "    <tr>\n",
       "      <th>9</th>\n",
       "      <td>1341</td>\n",
       "    </tr>\n",
       "    <tr>\n",
       "      <th>10</th>\n",
       "      <td>1532</td>\n",
       "    </tr>\n",
       "    <tr>\n",
       "      <th>11</th>\n",
       "      <td>1377</td>\n",
       "    </tr>\n",
       "    <tr>\n",
       "      <th>12</th>\n",
       "      <td>1316</td>\n",
       "    </tr>\n",
       "  </tbody>\n",
       "</table>\n",
       "</div>"
      ],
      "text/plain": [
       "            loan_id\n",
       "loan_month         \n",
       "1              1492\n",
       "2              1400\n",
       "3              1470\n",
       "4              1398\n",
       "5              1510\n",
       "6              1379\n",
       "7              1511\n",
       "8              1495\n",
       "9              1341\n",
       "10             1532\n",
       "11             1377\n",
       "12             1316"
      ]
     },
     "execution_count": 264,
     "metadata": {},
     "output_type": "execute_result"
    }
   ],
   "source": [
    "monthly_loan_application = df.groupby(\"loan_month\").agg({\"loan_id\":\"count\"})\n",
    "monthly_loan_application"
   ]
  },
  {
   "cell_type": "code",
   "execution_count": 265,
   "metadata": {},
   "outputs": [
    {
     "data": {
      "image/png": "[encoded data removed]",
      "text/plain": [
       "<Figure size 864x432 with 1 Axes>"
      ]
     },
     "metadata": {
      "needs_background": "light"
     },
     "output_type": "display_data"
    }
   ],
   "source": [
    "df['loan_month'].value_counts().sort_index().plot(kind='bar', figsize= (12,6));"
   ]
  },
  {
   "cell_type": "markdown",
   "metadata": {},
   "source": [
    "### Visualizing Age distributions of Loan Applicants"
   ]
  },
  {
   "cell_type": "code",
   "execution_count": 266,
   "metadata": {},
   "outputs": [
    {
     "name": "stderr",
     "output_type": "stream",
     "text": [
      "c:\\Users\\babat\\anaconda3\\lib\\site-packages\\seaborn\\distributions.py:2619: FutureWarning: `distplot` is a deprecated function and will be removed in a future version. Please adapt your code to use either `displot` (a figure-level function with similar flexibility) or `histplot` (an axes-level function for histograms).\n",
      "  warnings.warn(msg, FutureWarning)\n"
     ]
    },
    {
     "data": {
      "text/plain": [
       "<AxesSubplot:xlabel='age', ylabel='Density'>"
      ]
     },
     "execution_count": 266,
     "metadata": {},
     "output_type": "execute_result"
    },
    {
     "data": {
      "image/png": "[encoded data removed]",
      "text/plain": [
       "<Figure size 864x432 with 1 Axes>"
      ]
     },
     "metadata": {
      "needs_background": "light"
     },
     "output_type": "display_data"
    }
   ],
   "source": [
    "plt.figure(figsize = (12,6))\n",
    "sns.distplot(df['age'], color= 'red')"
   ]
  },
  {
   "cell_type": "code",
   "execution_count": 267,
   "metadata": {},
   "outputs": [
    {
     "data": {
      "text/html": [
       "<div>\n",
       "<style scoped>\n",
       "    .dataframe tbody tr th:only-of-type {\n",
       "        vertical-align: middle;\n",
       "    }\n",
       "\n",
       "    .dataframe tbody tr th {\n",
       "        vertical-align: top;\n",
       "    }\n",
       "\n",
       "    .dataframe thead th {\n",
       "        text-align: right;\n",
       "    }\n",
       "</style>\n",
       "<table border=\"1\" class=\"dataframe\">\n",
       "  <thead>\n",
       "    <tr style=\"text-align: right;\">\n",
       "      <th></th>\n",
       "      <th>loan_id</th>\n",
       "      <th>is_first_loan</th>\n",
       "      <th>fully_repaid_previous_loans</th>\n",
       "      <th>currently_repaying_other_loans</th>\n",
       "      <th>total_credit_card_limit</th>\n",
       "      <th>avg_percentage_credit_card_limit_used_last_year</th>\n",
       "      <th>saving_amount</th>\n",
       "      <th>checking_amount</th>\n",
       "      <th>is_employed</th>\n",
       "      <th>yearly_salary</th>\n",
       "      <th>age</th>\n",
       "      <th>dependent_number</th>\n",
       "      <th>loan_purpose</th>\n",
       "      <th>date</th>\n",
       "      <th>loan_granted</th>\n",
       "      <th>loan_repaid</th>\n",
       "      <th>loan_month</th>\n",
       "      <th>loan_day</th>\n",
       "    </tr>\n",
       "  </thead>\n",
       "  <tbody>\n",
       "    <tr>\n",
       "      <th>0</th>\n",
       "      <td>494427</td>\n",
       "      <td>1</td>\n",
       "      <td>1.0</td>\n",
       "      <td>0.0</td>\n",
       "      <td>5100</td>\n",
       "      <td>0.70</td>\n",
       "      <td>738</td>\n",
       "      <td>1716</td>\n",
       "      <td>0</td>\n",
       "      <td>0</td>\n",
       "      <td>43</td>\n",
       "      <td>3</td>\n",
       "      <td>investment</td>\n",
       "      <td>3/7/2012</td>\n",
       "      <td>1</td>\n",
       "      <td>0.0</td>\n",
       "      <td>3</td>\n",
       "      <td>7</td>\n",
       "    </tr>\n",
       "    <tr>\n",
       "      <th>1</th>\n",
       "      <td>494462</td>\n",
       "      <td>1</td>\n",
       "      <td>1.0</td>\n",
       "      <td>0.0</td>\n",
       "      <td>2100</td>\n",
       "      <td>0.42</td>\n",
       "      <td>1262</td>\n",
       "      <td>271</td>\n",
       "      <td>1</td>\n",
       "      <td>27300</td>\n",
       "      <td>29</td>\n",
       "      <td>8</td>\n",
       "      <td>home</td>\n",
       "      <td>9/17/2012</td>\n",
       "      <td>1</td>\n",
       "      <td>0.0</td>\n",
       "      <td>9</td>\n",
       "      <td>17</td>\n",
       "    </tr>\n",
       "    <tr>\n",
       "      <th>2</th>\n",
       "      <td>494588</td>\n",
       "      <td>0</td>\n",
       "      <td>1.0</td>\n",
       "      <td>1.0</td>\n",
       "      <td>3500</td>\n",
       "      <td>0.72</td>\n",
       "      <td>56</td>\n",
       "      <td>3618</td>\n",
       "      <td>1</td>\n",
       "      <td>31800</td>\n",
       "      <td>26</td>\n",
       "      <td>2</td>\n",
       "      <td>business</td>\n",
       "      <td>2/8/2012</td>\n",
       "      <td>1</td>\n",
       "      <td>0.0</td>\n",
       "      <td>2</td>\n",
       "      <td>8</td>\n",
       "    </tr>\n",
       "    <tr>\n",
       "      <th>3</th>\n",
       "      <td>494649</td>\n",
       "      <td>1</td>\n",
       "      <td>1.0</td>\n",
       "      <td>0.0</td>\n",
       "      <td>3800</td>\n",
       "      <td>0.90</td>\n",
       "      <td>1273</td>\n",
       "      <td>2359</td>\n",
       "      <td>1</td>\n",
       "      <td>27800</td>\n",
       "      <td>35</td>\n",
       "      <td>8</td>\n",
       "      <td>home</td>\n",
       "      <td>11/21/2012</td>\n",
       "      <td>1</td>\n",
       "      <td>0.0</td>\n",
       "      <td>11</td>\n",
       "      <td>21</td>\n",
       "    </tr>\n",
       "    <tr>\n",
       "      <th>4</th>\n",
       "      <td>494678</td>\n",
       "      <td>0</td>\n",
       "      <td>1.0</td>\n",
       "      <td>1.0</td>\n",
       "      <td>4200</td>\n",
       "      <td>0.78</td>\n",
       "      <td>1052</td>\n",
       "      <td>1962</td>\n",
       "      <td>1</td>\n",
       "      <td>30900</td>\n",
       "      <td>76</td>\n",
       "      <td>8</td>\n",
       "      <td>investment</td>\n",
       "      <td>12/20/2012</td>\n",
       "      <td>1</td>\n",
       "      <td>0.0</td>\n",
       "      <td>12</td>\n",
       "      <td>20</td>\n",
       "    </tr>\n",
       "  </tbody>\n",
       "</table>\n",
       "</div>"
      ],
      "text/plain": [
       "   loan_id  is_first_loan  fully_repaid_previous_loans  \\\n",
       "0   494427              1                          1.0   \n",
       "1   494462              1                          1.0   \n",
       "2   494588              0                          1.0   \n",
       "3   494649              1                          1.0   \n",
       "4   494678              0                          1.0   \n",
       "\n",
       "   currently_repaying_other_loans  total_credit_card_limit  \\\n",
       "0                             0.0                     5100   \n",
       "1                             0.0                     2100   \n",
       "2                             1.0                     3500   \n",
       "3                             0.0                     3800   \n",
       "4                             1.0                     4200   \n",
       "\n",
       "   avg_percentage_credit_card_limit_used_last_year  saving_amount  \\\n",
       "0                                             0.70            738   \n",
       "1                                             0.42           1262   \n",
       "2                                             0.72             56   \n",
       "3                                             0.90           1273   \n",
       "4                                             0.78           1052   \n",
       "\n",
       "   checking_amount  is_employed  yearly_salary  age  dependent_number  \\\n",
       "0             1716            0              0   43                 3   \n",
       "1              271            1          27300   29                 8   \n",
       "2             3618            1          31800   26                 2   \n",
       "3             2359            1          27800   35                 8   \n",
       "4             1962            1          30900   76                 8   \n",
       "\n",
       "  loan_purpose        date  loan_granted  loan_repaid  loan_month  loan_day  \n",
       "0   investment    3/7/2012             1          0.0           3         7  \n",
       "1         home   9/17/2012             1          0.0           9        17  \n",
       "2     business    2/8/2012             1          0.0           2         8  \n",
       "3         home  11/21/2012             1          0.0          11        21  \n",
       "4   investment  12/20/2012             1          0.0          12        20  "
      ]
     },
     "execution_count": 267,
     "metadata": {},
     "output_type": "execute_result"
    }
   ],
   "source": [
    "df.head()"
   ]
  },
  {
   "cell_type": "markdown",
   "metadata": {},
   "source": [
    "### Create a dummy variable from loan purpose column"
   ]
  },
  {
   "cell_type": "code",
   "execution_count": 268,
   "metadata": {},
   "outputs": [
    {
     "data": {
      "text/plain": [
       "0             investment\n",
       "1                   home\n",
       "2               business\n",
       "3                   home\n",
       "4             investment\n",
       "              ...       \n",
       "17216               home\n",
       "17217    emergency_funds\n",
       "17218           business\n",
       "17219           business\n",
       "17220              other\n",
       "Name: loan_purpose, Length: 17221, dtype: object"
      ]
     },
     "execution_count": 268,
     "metadata": {},
     "output_type": "execute_result"
    }
   ],
   "source": [
    "df['loan_purpose']"
   ]
  },
  {
   "cell_type": "code",
   "execution_count": 269,
   "metadata": {},
   "outputs": [],
   "source": [
    "df_loan_purpose = pd.get_dummies(df[\"loan_purpose\"])"
   ]
  },
  {
   "cell_type": "code",
   "execution_count": 270,
   "metadata": {},
   "outputs": [],
   "source": [
    "df= pd.concat([df, df_loan_purpose], axis = 1)"
   ]
  },
  {
   "cell_type": "markdown",
   "metadata": {},
   "source": [
    "### Drop Loan_Id, Date and Loan_Purpose Columns then Rearrange the Columns"
   ]
  },
  {
   "cell_type": "code",
   "execution_count": 271,
   "metadata": {},
   "outputs": [
    {
     "data": {
      "text/html": [
       "<div>\n",
       "<style scoped>\n",
       "    .dataframe tbody tr th:only-of-type {\n",
       "        vertical-align: middle;\n",
       "    }\n",
       "\n",
       "    .dataframe tbody tr th {\n",
       "        vertical-align: top;\n",
       "    }\n",
       "\n",
       "    .dataframe thead th {\n",
       "        text-align: right;\n",
       "    }\n",
       "</style>\n",
       "<table border=\"1\" class=\"dataframe\">\n",
       "  <thead>\n",
       "    <tr style=\"text-align: right;\">\n",
       "      <th></th>\n",
       "      <th>is_first_loan</th>\n",
       "      <th>fully_repaid_previous_loans</th>\n",
       "      <th>currently_repaying_other_loans</th>\n",
       "      <th>total_credit_card_limit</th>\n",
       "      <th>avg_percentage_credit_card_limit_used_last_year</th>\n",
       "      <th>saving_amount</th>\n",
       "      <th>checking_amount</th>\n",
       "      <th>is_employed</th>\n",
       "      <th>yearly_salary</th>\n",
       "      <th>age</th>\n",
       "      <th>dependent_number</th>\n",
       "      <th>loan_granted</th>\n",
       "      <th>loan_repaid</th>\n",
       "      <th>loan_month</th>\n",
       "      <th>loan_day</th>\n",
       "      <th>business</th>\n",
       "      <th>emergency_funds</th>\n",
       "      <th>home</th>\n",
       "      <th>investment</th>\n",
       "      <th>other</th>\n",
       "    </tr>\n",
       "  </thead>\n",
       "  <tbody>\n",
       "    <tr>\n",
       "      <th>0</th>\n",
       "      <td>1</td>\n",
       "      <td>1.0</td>\n",
       "      <td>0.0</td>\n",
       "      <td>5100</td>\n",
       "      <td>0.70</td>\n",
       "      <td>738</td>\n",
       "      <td>1716</td>\n",
       "      <td>0</td>\n",
       "      <td>0</td>\n",
       "      <td>43</td>\n",
       "      <td>3</td>\n",
       "      <td>1</td>\n",
       "      <td>0.0</td>\n",
       "      <td>3</td>\n",
       "      <td>7</td>\n",
       "      <td>0</td>\n",
       "      <td>0</td>\n",
       "      <td>0</td>\n",
       "      <td>1</td>\n",
       "      <td>0</td>\n",
       "    </tr>\n",
       "    <tr>\n",
       "      <th>1</th>\n",
       "      <td>1</td>\n",
       "      <td>1.0</td>\n",
       "      <td>0.0</td>\n",
       "      <td>2100</td>\n",
       "      <td>0.42</td>\n",
       "      <td>1262</td>\n",
       "      <td>271</td>\n",
       "      <td>1</td>\n",
       "      <td>27300</td>\n",
       "      <td>29</td>\n",
       "      <td>8</td>\n",
       "      <td>1</td>\n",
       "      <td>0.0</td>\n",
       "      <td>9</td>\n",
       "      <td>17</td>\n",
       "      <td>0</td>\n",
       "      <td>0</td>\n",
       "      <td>1</td>\n",
       "      <td>0</td>\n",
       "      <td>0</td>\n",
       "    </tr>\n",
       "    <tr>\n",
       "      <th>2</th>\n",
       "      <td>0</td>\n",
       "      <td>1.0</td>\n",
       "      <td>1.0</td>\n",
       "      <td>3500</td>\n",
       "      <td>0.72</td>\n",
       "      <td>56</td>\n",
       "      <td>3618</td>\n",
       "      <td>1</td>\n",
       "      <td>31800</td>\n",
       "      <td>26</td>\n",
       "      <td>2</td>\n",
       "      <td>1</td>\n",
       "      <td>0.0</td>\n",
       "      <td>2</td>\n",
       "      <td>8</td>\n",
       "      <td>1</td>\n",
       "      <td>0</td>\n",
       "      <td>0</td>\n",
       "      <td>0</td>\n",
       "      <td>0</td>\n",
       "    </tr>\n",
       "    <tr>\n",
       "      <th>3</th>\n",
       "      <td>1</td>\n",
       "      <td>1.0</td>\n",
       "      <td>0.0</td>\n",
       "      <td>3800</td>\n",
       "      <td>0.90</td>\n",
       "      <td>1273</td>\n",
       "      <td>2359</td>\n",
       "      <td>1</td>\n",
       "      <td>27800</td>\n",
       "      <td>35</td>\n",
       "      <td>8</td>\n",
       "      <td>1</td>\n",
       "      <td>0.0</td>\n",
       "      <td>11</td>\n",
       "      <td>21</td>\n",
       "      <td>0</td>\n",
       "      <td>0</td>\n",
       "      <td>1</td>\n",
       "      <td>0</td>\n",
       "      <td>0</td>\n",
       "    </tr>\n",
       "    <tr>\n",
       "      <th>4</th>\n",
       "      <td>0</td>\n",
       "      <td>1.0</td>\n",
       "      <td>1.0</td>\n",
       "      <td>4200</td>\n",
       "      <td>0.78</td>\n",
       "      <td>1052</td>\n",
       "      <td>1962</td>\n",
       "      <td>1</td>\n",
       "      <td>30900</td>\n",
       "      <td>76</td>\n",
       "      <td>8</td>\n",
       "      <td>1</td>\n",
       "      <td>0.0</td>\n",
       "      <td>12</td>\n",
       "      <td>20</td>\n",
       "      <td>0</td>\n",
       "      <td>0</td>\n",
       "      <td>0</td>\n",
       "      <td>1</td>\n",
       "      <td>0</td>\n",
       "    </tr>\n",
       "  </tbody>\n",
       "</table>\n",
       "</div>"
      ],
      "text/plain": [
       "   is_first_loan  fully_repaid_previous_loans  currently_repaying_other_loans  \\\n",
       "0              1                          1.0                             0.0   \n",
       "1              1                          1.0                             0.0   \n",
       "2              0                          1.0                             1.0   \n",
       "3              1                          1.0                             0.0   \n",
       "4              0                          1.0                             1.0   \n",
       "\n",
       "   total_credit_card_limit  avg_percentage_credit_card_limit_used_last_year  \\\n",
       "0                     5100                                             0.70   \n",
       "1                     2100                                             0.42   \n",
       "2                     3500                                             0.72   \n",
       "3                     3800                                             0.90   \n",
       "4                     4200                                             0.78   \n",
       "\n",
       "   saving_amount  checking_amount  is_employed  yearly_salary  age  \\\n",
       "0            738             1716            0              0   43   \n",
       "1           1262              271            1          27300   29   \n",
       "2             56             3618            1          31800   26   \n",
       "3           1273             2359            1          27800   35   \n",
       "4           1052             1962            1          30900   76   \n",
       "\n",
       "   dependent_number  loan_granted  loan_repaid  loan_month  loan_day  \\\n",
       "0                 3             1          0.0           3         7   \n",
       "1                 8             1          0.0           9        17   \n",
       "2                 2             1          0.0           2         8   \n",
       "3                 8             1          0.0          11        21   \n",
       "4                 8             1          0.0          12        20   \n",
       "\n",
       "   business  emergency_funds  home  investment  other  \n",
       "0         0                0     0           1      0  \n",
       "1         0                0     1           0      0  \n",
       "2         1                0     0           0      0  \n",
       "3         0                0     1           0      0  \n",
       "4         0                0     0           1      0  "
      ]
     },
     "execution_count": 271,
     "metadata": {},
     "output_type": "execute_result"
    }
   ],
   "source": [
    "df = df.drop([\"loan_id\", \"date\", \"loan_purpose\"], axis = 1)\n",
    "df.head()"
   ]
  },
  {
   "cell_type": "code",
   "execution_count": 272,
   "metadata": {},
   "outputs": [
    {
     "data": {
      "text/plain": [
       "array(['is_first_loan', 'fully_repaid_previous_loans',\n",
       "       'currently_repaying_other_loans', 'total_credit_card_limit',\n",
       "       'avg_percentage_credit_card_limit_used_last_year', 'saving_amount',\n",
       "       'checking_amount', 'is_employed', 'yearly_salary', 'age',\n",
       "       'dependent_number', 'loan_granted', 'loan_repaid', 'loan_month',\n",
       "       'loan_day', 'business', 'emergency_funds', 'home', 'investment',\n",
       "       'other'], dtype=object)"
      ]
     },
     "execution_count": 272,
     "metadata": {},
     "output_type": "execute_result"
    }
   ],
   "source": [
    "df.columns.values"
   ]
  },
  {
   "cell_type": "code",
   "execution_count": 273,
   "metadata": {},
   "outputs": [],
   "source": [
    "df = df.loc[:,['is_first_loan', 'fully_repaid_previous_loans', 'currently_repaying_other_loans', \n",
    "            'total_credit_card_limit', 'avg_percentage_credit_card_limit_used_last_year', 'saving_amount',\n",
    "            'checking_amount', 'is_employed', 'yearly_salary', 'age', 'dependent_number', 'loan_month', 'loan_day',\n",
    "            'business', 'emergency_funds', 'home', 'investment', 'other', 'loan_granted', 'loan_repaid']]"
   ]
  },
  {
   "cell_type": "code",
   "execution_count": 274,
   "metadata": {},
   "outputs": [
    {
     "data": {
      "text/html": [
       "<div>\n",
       "<style scoped>\n",
       "    .dataframe tbody tr th:only-of-type {\n",
       "        vertical-align: middle;\n",
       "    }\n",
       "\n",
       "    .dataframe tbody tr th {\n",
       "        vertical-align: top;\n",
       "    }\n",
       "\n",
       "    .dataframe thead th {\n",
       "        text-align: right;\n",
       "    }\n",
       "</style>\n",
       "<table border=\"1\" class=\"dataframe\">\n",
       "  <thead>\n",
       "    <tr style=\"text-align: right;\">\n",
       "      <th></th>\n",
       "      <th>is_first_loan</th>\n",
       "      <th>fully_repaid_previous_loans</th>\n",
       "      <th>currently_repaying_other_loans</th>\n",
       "      <th>total_credit_card_limit</th>\n",
       "      <th>avg_percentage_credit_card_limit_used_last_year</th>\n",
       "      <th>saving_amount</th>\n",
       "      <th>checking_amount</th>\n",
       "      <th>is_employed</th>\n",
       "      <th>yearly_salary</th>\n",
       "      <th>age</th>\n",
       "      <th>dependent_number</th>\n",
       "      <th>loan_month</th>\n",
       "      <th>loan_day</th>\n",
       "      <th>business</th>\n",
       "      <th>emergency_funds</th>\n",
       "      <th>home</th>\n",
       "      <th>investment</th>\n",
       "      <th>other</th>\n",
       "      <th>loan_granted</th>\n",
       "      <th>loan_repaid</th>\n",
       "    </tr>\n",
       "  </thead>\n",
       "  <tbody>\n",
       "    <tr>\n",
       "      <th>0</th>\n",
       "      <td>1</td>\n",
       "      <td>1.0</td>\n",
       "      <td>0.0</td>\n",
       "      <td>5100</td>\n",
       "      <td>0.70</td>\n",
       "      <td>738</td>\n",
       "      <td>1716</td>\n",
       "      <td>0</td>\n",
       "      <td>0</td>\n",
       "      <td>43</td>\n",
       "      <td>3</td>\n",
       "      <td>3</td>\n",
       "      <td>7</td>\n",
       "      <td>0</td>\n",
       "      <td>0</td>\n",
       "      <td>0</td>\n",
       "      <td>1</td>\n",
       "      <td>0</td>\n",
       "      <td>1</td>\n",
       "      <td>0.0</td>\n",
       "    </tr>\n",
       "    <tr>\n",
       "      <th>1</th>\n",
       "      <td>1</td>\n",
       "      <td>1.0</td>\n",
       "      <td>0.0</td>\n",
       "      <td>2100</td>\n",
       "      <td>0.42</td>\n",
       "      <td>1262</td>\n",
       "      <td>271</td>\n",
       "      <td>1</td>\n",
       "      <td>27300</td>\n",
       "      <td>29</td>\n",
       "      <td>8</td>\n",
       "      <td>9</td>\n",
       "      <td>17</td>\n",
       "      <td>0</td>\n",
       "      <td>0</td>\n",
       "      <td>1</td>\n",
       "      <td>0</td>\n",
       "      <td>0</td>\n",
       "      <td>1</td>\n",
       "      <td>0.0</td>\n",
       "    </tr>\n",
       "    <tr>\n",
       "      <th>2</th>\n",
       "      <td>0</td>\n",
       "      <td>1.0</td>\n",
       "      <td>1.0</td>\n",
       "      <td>3500</td>\n",
       "      <td>0.72</td>\n",
       "      <td>56</td>\n",
       "      <td>3618</td>\n",
       "      <td>1</td>\n",
       "      <td>31800</td>\n",
       "      <td>26</td>\n",
       "      <td>2</td>\n",
       "      <td>2</td>\n",
       "      <td>8</td>\n",
       "      <td>1</td>\n",
       "      <td>0</td>\n",
       "      <td>0</td>\n",
       "      <td>0</td>\n",
       "      <td>0</td>\n",
       "      <td>1</td>\n",
       "      <td>0.0</td>\n",
       "    </tr>\n",
       "    <tr>\n",
       "      <th>3</th>\n",
       "      <td>1</td>\n",
       "      <td>1.0</td>\n",
       "      <td>0.0</td>\n",
       "      <td>3800</td>\n",
       "      <td>0.90</td>\n",
       "      <td>1273</td>\n",
       "      <td>2359</td>\n",
       "      <td>1</td>\n",
       "      <td>27800</td>\n",
       "      <td>35</td>\n",
       "      <td>8</td>\n",
       "      <td>11</td>\n",
       "      <td>21</td>\n",
       "      <td>0</td>\n",
       "      <td>0</td>\n",
       "      <td>1</td>\n",
       "      <td>0</td>\n",
       "      <td>0</td>\n",
       "      <td>1</td>\n",
       "      <td>0.0</td>\n",
       "    </tr>\n",
       "    <tr>\n",
       "      <th>4</th>\n",
       "      <td>0</td>\n",
       "      <td>1.0</td>\n",
       "      <td>1.0</td>\n",
       "      <td>4200</td>\n",
       "      <td>0.78</td>\n",
       "      <td>1052</td>\n",
       "      <td>1962</td>\n",
       "      <td>1</td>\n",
       "      <td>30900</td>\n",
       "      <td>76</td>\n",
       "      <td>8</td>\n",
       "      <td>12</td>\n",
       "      <td>20</td>\n",
       "      <td>0</td>\n",
       "      <td>0</td>\n",
       "      <td>0</td>\n",
       "      <td>1</td>\n",
       "      <td>0</td>\n",
       "      <td>1</td>\n",
       "      <td>0.0</td>\n",
       "    </tr>\n",
       "  </tbody>\n",
       "</table>\n",
       "</div>"
      ],
      "text/plain": [
       "   is_first_loan  fully_repaid_previous_loans  currently_repaying_other_loans  \\\n",
       "0              1                          1.0                             0.0   \n",
       "1              1                          1.0                             0.0   \n",
       "2              0                          1.0                             1.0   \n",
       "3              1                          1.0                             0.0   \n",
       "4              0                          1.0                             1.0   \n",
       "\n",
       "   total_credit_card_limit  avg_percentage_credit_card_limit_used_last_year  \\\n",
       "0                     5100                                             0.70   \n",
       "1                     2100                                             0.42   \n",
       "2                     3500                                             0.72   \n",
       "3                     3800                                             0.90   \n",
       "4                     4200                                             0.78   \n",
       "\n",
       "   saving_amount  checking_amount  is_employed  yearly_salary  age  \\\n",
       "0            738             1716            0              0   43   \n",
       "1           1262              271            1          27300   29   \n",
       "2             56             3618            1          31800   26   \n",
       "3           1273             2359            1          27800   35   \n",
       "4           1052             1962            1          30900   76   \n",
       "\n",
       "   dependent_number  loan_month  loan_day  business  emergency_funds  home  \\\n",
       "0                 3           3         7         0                0     0   \n",
       "1                 8           9        17         0                0     1   \n",
       "2                 2           2         8         1                0     0   \n",
       "3                 8          11        21         0                0     1   \n",
       "4                 8          12        20         0                0     0   \n",
       "\n",
       "   investment  other  loan_granted  loan_repaid  \n",
       "0           1      0             1          0.0  \n",
       "1           0      0             1          0.0  \n",
       "2           0      0             1          0.0  \n",
       "3           0      0             1          0.0  \n",
       "4           1      0             1          0.0  "
      ]
     },
     "execution_count": 274,
     "metadata": {},
     "output_type": "execute_result"
    }
   ],
   "source": [
    "df.head()"
   ]
  },
  {
   "cell_type": "code",
   "execution_count": null,
   "metadata": {},
   "outputs": [],
   "source": []
  }
 ],
 "metadata": {
  "kernelspec": {
   "display_name": "Python 3.9.7 ('base')",
   "language": "python",
   "name": "python3"
  },
  "language_info": {
   "codemirror_mode": {
    "name": "ipython",
    "version": 3
   },
   "file_extension": ".py",
   "mimetype": "text/x-python",
   "name": "python",
   "nbconvert_exporter": "python",
   "pygments_lexer": "ipython3",
   "version": "3.9.7"
  },
  "orig_nbformat": 4,
  "vscode": {
   "interpreter": {
    "hash": "5b8cb09808be83917a0909fdd53cc0432b6b8033d01c75a8a141e9c7633dc135"
   }
  }
 },
 "nbformat": 4,
 "nbformat_minor": 2
}
