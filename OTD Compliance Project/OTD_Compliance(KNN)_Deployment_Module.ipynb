{
 "cells": [
  {
   "cell_type": "code",
   "execution_count": null,
   "id": "a01c71f6",
   "metadata": {},
   "outputs": [],
   "source": [
    "from OTD_KNN_Module import *\n",
    "model = OTD_Compliance_model('model1','scaler1')\n",
    "model.load_and_clean_data('OTD_New_Copy.csv')\n",
    "model.predicted_outputs()"
   ]
  },
  {
   "cell_type": "code",
   "execution_count": null,
   "id": "400ae3d4",
   "metadata": {},
   "outputs": [],
   "source": [
    "model.predicted_outputs().to_csv('OTD_Compliance_predictions.csv', index = False)"
   ]
  }
 ],
 "metadata": {
  "kernelspec": {
   "display_name": "Python [conda env:root] *",
   "language": "python",
   "name": "conda-root-py"
  },
  "language_info": {
   "codemirror_mode": {
    "name": "ipython",
    "version": 3
   },
   "file_extension": ".py",
   "mimetype": "text/x-python",
   "name": "python",
   "nbconvert_exporter": "python",
   "pygments_lexer": "ipython3",
   "version": "3.9.7"
  }
 },
 "nbformat": 4,
 "nbformat_minor": 5
}
