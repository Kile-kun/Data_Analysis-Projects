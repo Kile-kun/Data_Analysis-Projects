{
 "cells": [
  {
   "cell_type": "code",
   "execution_count": null,
   "id": "159f993f",
   "metadata": {},
   "outputs": [],
   "source": [
    "from Bike_Purchase_module import *\n",
    "model = Purchased_Bike_model('model','scaler')\n",
    "model.load_and_clean_data('Bike Sales New.csv')\n",
    "model.predicted_outputs()"
   ]
  },
  {
   "cell_type": "code",
   "execution_count": null,
   "id": "1d9eb8ab",
   "metadata": {},
   "outputs": [],
   "source": [
    "model.predicted_outputs().to_csv('Bike_Purchase_predictions.csv', index = False)"
   ]
  },
  {
   "cell_type": "code",
   "execution_count": null,
   "id": "16f9fea3",
   "metadata": {},
   "outputs": [],
   "source": []
  }
 ],
 "metadata": {
  "kernelspec": {
   "display_name": "Python [conda env:root] *",
   "language": "python",
   "name": "conda-root-py"
  },
  "language_info": {
   "codemirror_mode": {
    "name": "ipython",
    "version": 3
   },
   "file_extension": ".py",
   "mimetype": "text/x-python",
   "name": "python",
   "nbconvert_exporter": "python",
   "pygments_lexer": "ipython3",
   "version": "3.9.7"
  }
 },
 "nbformat": 4,
 "nbformat_minor": 5
}
